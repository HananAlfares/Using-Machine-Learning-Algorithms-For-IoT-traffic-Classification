{
 "cells": [
  {
   "cell_type": "code",
   "execution_count": 1,
   "id": "2e10b6a6",
   "metadata": {},
   "outputs": [],
   "source": [
    "# import the needed libraries \n",
    "import numpy as np\n",
    "import pandas as pd\n",
    "from sklearn.preprocessing import LabelEncoder\n",
    "from sklearn.preprocessing import OneHotEncoder\n",
    "from sklearn.model_selection import train_test_split\n",
    "from tensorflow.keras.layers import Dropout\n",
    "\n",
    "import tensorflow as tf\n",
    "from tensorflow.keras import Model\n",
    "from tensorflow.keras import Sequential\n",
    "from tensorflow.keras.models import Sequential, Model\n",
    "from tensorflow.keras.layers import Dense\n",
    "import sklearn\n",
    "from sklearn.preprocessing import MinMaxScaler\n",
    "import matplotlib.pyplot as plt"
   ]
  },
  {
   "cell_type": "code",
   "execution_count": 2,
   "id": "72189a4f",
   "metadata": {},
   "outputs": [],
   "source": [
    "# import the data in for csv file\n",
    "\n",
    "df=pd.read_csv(\"iot23_combined.csv\")\n"
   ]
  },
  {
   "cell_type": "code",
   "execution_count": 3,
   "id": "f474c0dc",
   "metadata": {},
   "outputs": [],
   "source": [
    "# spliiting the data into X and y\n",
    "X=df.iloc[:,:-1].values\n",
    "y=df.iloc[:,-1].values"
   ]
  },
  {
   "cell_type": "code",
   "execution_count": 1,
   "id": "78de4cfa",
   "metadata": {},
   "outputs": [
    {
     "ename": "NameError",
     "evalue": "name 'LabelEncoder' is not defined",
     "output_type": "error",
     "traceback": [
      "\u001b[1;31m---------------------------------------------------------------------------\u001b[0m",
      "\u001b[1;31mNameError\u001b[0m                                 Traceback (most recent call last)",
      "\u001b[1;32m~\\AppData\\Local\\Temp\\ipykernel_14936\\2036306515.py\u001b[0m in \u001b[0;36m<module>\u001b[1;34m\u001b[0m\n\u001b[0;32m      1\u001b[0m \u001b[1;31m# Encode the categorical Data (y) which is lable using label encoder and one hot encodor to increase the accuracy\u001b[0m\u001b[1;33m\u001b[0m\u001b[1;33m\u001b[0m\u001b[0m\n\u001b[1;32m----> 2\u001b[1;33m \u001b[0mlabelencoder\u001b[0m\u001b[1;33m=\u001b[0m\u001b[0mLabelEncoder\u001b[0m\u001b[1;33m(\u001b[0m\u001b[1;33m)\u001b[0m\u001b[1;33m\u001b[0m\u001b[1;33m\u001b[0m\u001b[0m\n\u001b[0m\u001b[0;32m      3\u001b[0m \u001b[0my\u001b[0m\u001b[1;33m=\u001b[0m\u001b[0mlabelencoder\u001b[0m\u001b[1;33m.\u001b[0m\u001b[0mfit_transform\u001b[0m\u001b[1;33m(\u001b[0m\u001b[0my\u001b[0m\u001b[1;33m)\u001b[0m\u001b[1;33m\u001b[0m\u001b[1;33m\u001b[0m\u001b[0m\n\u001b[0;32m      4\u001b[0m \u001b[0mencoder\u001b[0m\u001b[1;33m=\u001b[0m\u001b[0mOneHotEncoder\u001b[0m\u001b[1;33m(\u001b[0m\u001b[0msparse\u001b[0m\u001b[1;33m=\u001b[0m\u001b[1;32mFalse\u001b[0m\u001b[1;33m)\u001b[0m\u001b[1;33m\u001b[0m\u001b[1;33m\u001b[0m\u001b[0m\n\u001b[0;32m      5\u001b[0m \u001b[0my\u001b[0m\u001b[1;33m=\u001b[0m\u001b[0my\u001b[0m\u001b[1;33m.\u001b[0m\u001b[0mreshape\u001b[0m\u001b[1;33m(\u001b[0m\u001b[0mlen\u001b[0m\u001b[1;33m(\u001b[0m\u001b[0my\u001b[0m\u001b[1;33m)\u001b[0m\u001b[1;33m,\u001b[0m\u001b[1;36m1\u001b[0m\u001b[1;33m)\u001b[0m\u001b[1;33m\u001b[0m\u001b[1;33m\u001b[0m\u001b[0m\n",
      "\u001b[1;31mNameError\u001b[0m: name 'LabelEncoder' is not defined"
     ]
    }
   ],
   "source": [
    "# Encode the categorical Data (y) which is lable using label encoder and one hot encodor to increase the accuracy\n",
    "labelencoder=LabelEncoder()\n",
    "y=labelencoder.fit_transform(y)\n",
    "encoder=OneHotEncoder(sparse=False)\n",
    "y=y.reshape(len(y),1)\n",
    "y=encoder.fit_transform(y)"
   ]
  },
  {
   "cell_type": "code",
   "execution_count": 5,
   "id": "62eaeced",
   "metadata": {},
   "outputs": [],
   "source": [
    "#feature scaling\n",
    "scaler = MinMaxScaler() \n",
    "scaler.fit(X)\n",
    "normalized_x = scaler.transform(X)\n",
    "normalized_x.shape\n",
    "scaler.fit(y)\n",
    "normalized_y = scaler.transform(y)\n"
   ]
  },
  {
   "cell_type": "code",
   "execution_count": 6,
   "id": "c250564b",
   "metadata": {},
   "outputs": [],
   "source": [
    "# spliiting the data into train and test set\n",
    "X_train, X_test, y_train, y_test = train_test_split\n",
    "(normalized_x, normalized_y, random_state=10, test_size=0.2)\n"
   ]
  },
  {
   "cell_type": "code",
   "execution_count": 7,
   "id": "f5532ca1",
   "metadata": {},
   "outputs": [],
   "source": [
    "#Initializing the ANN    \n",
    "model = tf.keras.models.Sequential()\n",
    "# Adding the input layer and the first hidden layer\n",
    "model.add(Dense(2000, activation='relu',input_dim=11))\n",
    "# Adding the second hidden layer\n",
    "model.add(Dense(1500, activation='relu'))\n",
    "model.add(Dropout(0.2))\n",
    "model.add(Dense(800,activation='relu'))\n",
    "model.add(Dropout(0.2))\n",
    "model.add(Dense(400,activation='relu'))\n",
    "model.add(Dropout(0.2))\n",
    "model.add(Dense(150,activation='relu'))\n",
    "model.add(Dropout(0.2))\n",
    "# Adding the output layer\n",
    "model.add(Dense(13, activation='sigmoid'))"
   ]
  },
  {
   "cell_type": "code",
   "execution_count": 8,
   "id": "2288c1bd",
   "metadata": {},
   "outputs": [
    {
     "name": "stdout",
     "output_type": "stream",
     "text": [
      "Model: \"sequential\"\n",
      "_________________________________________________________________\n",
      " Layer (type)                Output Shape              Param #   \n",
      "=================================================================\n",
      " dense (Dense)               (None, 2000)              24000     \n",
      "                                                                 \n",
      " dense_1 (Dense)             (None, 1500)              3001500   \n",
      "                                                                 \n",
      " dropout (Dropout)           (None, 1500)              0         \n",
      "                                                                 \n",
      " dense_2 (Dense)             (None, 800)               1200800   \n",
      "                                                                 \n",
      " dropout_1 (Dropout)         (None, 800)               0         \n",
      "                                                                 \n",
      " dense_3 (Dense)             (None, 400)               320400    \n",
      "                                                                 \n",
      " dropout_2 (Dropout)         (None, 400)               0         \n",
      "                                                                 \n",
      " dense_4 (Dense)             (None, 150)               60150     \n",
      "                                                                 \n",
      " dropout_3 (Dropout)         (None, 150)               0         \n",
      "                                                                 \n",
      " dense_5 (Dense)             (None, 13)                1963      \n",
      "                                                                 \n",
      "=================================================================\n",
      "Total params: 4,608,813\n",
      "Trainable params: 4,608,813\n",
      "Non-trainable params: 0\n",
      "_________________________________________________________________\n"
     ]
    }
   ],
   "source": [
    "# Compiling the ANN\n",
    "model.compile(loss='categorical_crossentropy', optimizer='adam', metrics=['accuracy'])\n",
    "model.summary()"
   ]
  },
  {
   "cell_type": "code",
   "execution_count": 11,
   "id": "db4773bc",
   "metadata": {},
   "outputs": [
    {
     "name": "stdout",
     "output_type": "stream",
     "text": [
      "Epoch 1/15\n",
      "9030/9030 [==============================] - 16759s 2s/step - loss: 0.6469 - accuracy: 0.7293 - val_loss: 0.6462 - val_accuracy: 0.7299\n",
      "Epoch 2/15\n",
      "9030/9030 [==============================] - 1820s 202ms/step - loss: 0.6468 - accuracy: 0.7293 - val_loss: 0.6451 - val_accuracy: 0.7297\n",
      "Epoch 3/15\n",
      "9030/9030 [==============================] - 1390s 154ms/step - loss: 0.6482 - accuracy: 0.7294 - val_loss: 0.6457 - val_accuracy: 0.7295\n",
      "Epoch 4/15\n",
      "9030/9030 [==============================] - 1350s 150ms/step - loss: 0.6478 - accuracy: 0.7293 - val_loss: 0.6445 - val_accuracy: 0.7303\n",
      "Epoch 5/15\n",
      "9030/9030 [==============================] - 1279s 142ms/step - loss: 0.6473 - accuracy: 0.7294 - val_loss: 0.6463 - val_accuracy: 0.7297\n",
      "Epoch 6/15\n",
      "9030/9030 [==============================] - 1287s 143ms/step - loss: 0.6470 - accuracy: 0.7293 - val_loss: 0.6453 - val_accuracy: 0.7299\n",
      "Epoch 7/15\n",
      "9030/9030 [==============================] - 1315s 146ms/step - loss: 0.6472 - accuracy: 0.7293 - val_loss: 0.6469 - val_accuracy: 0.7298\n",
      "Epoch 8/15\n",
      "9030/9030 [==============================] - 1544s 171ms/step - loss: 0.6473 - accuracy: 0.7294 - val_loss: 0.6462 - val_accuracy: 0.7304\n",
      "Epoch 9/15\n",
      "9030/9030 [==============================] - 2286s 253ms/step - loss: 0.6470 - accuracy: 0.7294 - val_loss: 0.6478 - val_accuracy: 0.7291\n",
      "Epoch 10/15\n",
      "9030/9030 [==============================] - 2107s 233ms/step - loss: 0.6467 - accuracy: 0.7294 - val_loss: 0.6454 - val_accuracy: 0.7302\n",
      "Epoch 11/15\n",
      "9030/9030 [==============================] - 1698s 188ms/step - loss: 0.6483 - accuracy: 0.7293 - val_loss: 0.6507 - val_accuracy: 0.7295\n",
      "Epoch 12/15\n",
      "9030/9030 [==============================] - 1706s 189ms/step - loss: 0.6472 - accuracy: 0.7294 - val_loss: 0.6486 - val_accuracy: 0.7301\n",
      "Epoch 13/15\n",
      "9030/9030 [==============================] - 1652s 183ms/step - loss: 0.6471 - accuracy: 0.7293 - val_loss: 0.6496 - val_accuracy: 0.7297\n",
      "Epoch 14/15\n",
      "9030/9030 [==============================] - 29948s 3s/step - loss: 0.6479 - accuracy: 0.7293 - val_loss: 0.6488 - val_accuracy: 0.7301\n",
      "Epoch 15/15\n",
      "9030/9030 [==============================] - 1024s 113ms/step - loss: 0.6472 - accuracy: 0.7293 - val_loss: 0.6474 - val_accuracy: 0.7299\n"
     ]
    }
   ],
   "source": [
    "\n",
    "# Training the ANN on the Training set\n",
    "history = model.fit(X_train,y_train, epochs = 10, batch_size=256,\n",
    "                    validation_data=(X_test,y_test),verbose=1)\n"
   ]
  },
  {
   "cell_type": "code",
   "execution_count": 14,
   "id": "a917c695",
   "metadata": {},
   "outputs": [
    {
     "name": "stdout",
     "output_type": "stream",
     "text": [
      "9030/9030 [==============================] - 296s 33ms/step\n",
      "accuracy 72.25469735826593\n"
     ]
    }
   ],
   "source": [
    "# Predicting the Test set results\n",
    "y_pred = model.predict(X_test)\n",
    "pred=list()\n",
    "for i in range(len(y_pred)):\n",
    "    pred.append(np.argmax(y_pred[i]))\n",
    "# converting one hot encoded test label to label\n",
    "test=list()\n",
    "for i in range(len(y_test)):\n",
    "    test.append(np.argmax(y_test[i]))\n",
    "from sklearn.metrics import accuracy_score\n",
    "accuracy=accuracy_score(pred,test)\n",
    "print(\"accuracy\",accuracy*100)"
   ]
  },
  {
   "cell_type": "code",
   "execution_count": null,
   "id": "48de13df",
   "metadata": {},
   "outputs": [],
   "source": [
    "\n",
    "# plotting the accuracy curve (training and validation )\n",
    "acc = history.history['acc']\n",
    "val_acc = history.history['val_acc']\n",
    "loss = history.history['loss']\n",
    "val_loss = history.history['val_loss']\n",
    "epochs = range(1, len(acc) + 1)\n",
    "plt.plot(epochs, acc, 'bo', label='Training acc')\n",
    "plt.plot(epochs, val_acc, 'b', label='Validation acc')\n",
    "plt.title('Training and validation accuracy')\n",
    "plt.legend()\n",
    "\n",
    "plt.figure()\n",
    "\n",
    "plt.plot(epochs, loss, 'bo', label='Training loss')\n",
    "plt.plot(epochs, val_loss, 'b', label='Validation loss')\n",
    "plt.title('Training and validation loss')\n",
    "plt.legend()\n",
    "\n",
    "plt.show()"
   ]
  },
  {
   "cell_type": "code",
   "execution_count": null,
   "id": "c4d25fae",
   "metadata": {},
   "outputs": [],
   "source": []
  },
  {
   "cell_type": "code",
   "execution_count": null,
   "id": "7a922de9",
   "metadata": {},
   "outputs": [],
   "source": []
  }
 ],
 "metadata": {
  "kernelspec": {
   "display_name": "Python 3 (ipykernel)",
   "language": "python",
   "name": "python3"
  },
  "language_info": {
   "codemirror_mode": {
    "name": "ipython",
    "version": 3
   },
   "file_extension": ".py",
   "mimetype": "text/x-python",
   "name": "python",
   "nbconvert_exporter": "python",
   "pygments_lexer": "ipython3",
   "version": "3.9.13"
  }
 },
 "nbformat": 4,
 "nbformat_minor": 5
}
