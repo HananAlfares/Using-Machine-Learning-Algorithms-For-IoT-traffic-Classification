{
 "cells": [
  {
   "cell_type": "code",
   "execution_count": 20,
   "id": "ddb70d7a",
   "metadata": {},
   "outputs": [],
   "source": [
    "import numpy as np\n",
    "import pandas as pd\n",
    "from sklearn.preprocessing import LabelEncoder\n",
    "from sklearn.model_selection import train_test_split\n",
    "from sklearn.preprocessing import StandardScaler\n",
    "from sklearn.ensemble import RandomForestClassifier\n",
    "from sklearn.tree import DecisionTreeClassifier\n",
    "from sklearn.neighbors import KNeighborsClassifier\n",
    "from sklearn.naive_bayes import GaussianNB\n",
    "from sklearn.metrics import accuracy_score\n",
    "import sklearn\n",
    "\n"
   ]
  },
  {
   "cell_type": "code",
   "execution_count": 2,
   "id": "145c6341",
   "metadata": {},
   "outputs": [],
   "source": [
    "# import the data set\n",
    "df=pd.read_csv(\"iot23_combined.csv\")"
   ]
  },
  {
   "cell_type": "code",
   "execution_count": 5,
   "id": "063a5d58",
   "metadata": {
    "scrolled": true
   },
   "outputs": [
    {
     "name": "stdout",
     "output_type": "stream",
     "text": [
      "[[1.0000e+00 1.8357e+04 0.0000e+00 ... 1.8000e+02 0.0000e+00 0.0000e+00]\n",
      " [1.0000e+00 0.0000e+00 0.0000e+00 ... 6.0000e+01 0.0000e+00 0.0000e+00]\n",
      " [1.0000e+00 0.0000e+00 0.0000e+00 ... 6.0000e+01 0.0000e+00 0.0000e+00]\n",
      " ...\n",
      " [1.0000e+00 0.0000e+00 0.0000e+00 ... 0.0000e+00 0.0000e+00 0.0000e+00]\n",
      " [1.0000e+00 0.0000e+00 0.0000e+00 ... 0.0000e+00 0.0000e+00 0.0000e+00]\n",
      " [1.0000e+00 0.0000e+00 0.0000e+00 ... 0.0000e+00 0.0000e+00 0.0000e+00]] ['PartOfAHorizontalPortScan' 'PartOfAHorizontalPortScan'\n",
      " 'PartOfAHorizontalPortScan' ... 'DDoS' 'DDoS' 'DDoS']\n"
     ]
    }
   ],
   "source": [
    "# splitting the data into X,y\n",
    "X=df.iloc[:,1:-1].values\n",
    "y=df.iloc[:,-1].values\n",
    "print(X,y)"
   ]
  },
  {
   "cell_type": "code",
   "execution_count": 6,
   "id": "ee590dd9",
   "metadata": {},
   "outputs": [],
   "source": [
    "labelencoder=LabelEncoder()\n",
    "\n",
    "y=labelencoder.fit_transform(y)\n"
   ]
  },
  {
   "cell_type": "code",
   "execution_count": 9,
   "id": "df4b2f97",
   "metadata": {},
   "outputs": [],
   "source": [
    "#splitting the data :    \n",
    "X_train, X_test, y_train, y_test = train_test_split(X, y, test_size=0.2, random_state=0)"
   ]
  },
  {
   "cell_type": "code",
   "execution_count": 11,
   "id": "6daaa7b0",
   "metadata": {},
   "outputs": [
    {
     "data": {
      "text/html": [
       "<style>#sk-container-id-1 {color: black;background-color: white;}#sk-container-id-1 pre{padding: 0;}#sk-container-id-1 div.sk-toggleable {background-color: white;}#sk-container-id-1 label.sk-toggleable__label {cursor: pointer;display: block;width: 100%;margin-bottom: 0;padding: 0.3em;box-sizing: border-box;text-align: center;}#sk-container-id-1 label.sk-toggleable__label-arrow:before {content: \"▸\";float: left;margin-right: 0.25em;color: #696969;}#sk-container-id-1 label.sk-toggleable__label-arrow:hover:before {color: black;}#sk-container-id-1 div.sk-estimator:hover label.sk-toggleable__label-arrow:before {color: black;}#sk-container-id-1 div.sk-toggleable__content {max-height: 0;max-width: 0;overflow: hidden;text-align: left;background-color: #f0f8ff;}#sk-container-id-1 div.sk-toggleable__content pre {margin: 0.2em;color: black;border-radius: 0.25em;background-color: #f0f8ff;}#sk-container-id-1 input.sk-toggleable__control:checked~div.sk-toggleable__content {max-height: 200px;max-width: 100%;overflow: auto;}#sk-container-id-1 input.sk-toggleable__control:checked~label.sk-toggleable__label-arrow:before {content: \"▾\";}#sk-container-id-1 div.sk-estimator input.sk-toggleable__control:checked~label.sk-toggleable__label {background-color: #d4ebff;}#sk-container-id-1 div.sk-label input.sk-toggleable__control:checked~label.sk-toggleable__label {background-color: #d4ebff;}#sk-container-id-1 input.sk-hidden--visually {border: 0;clip: rect(1px 1px 1px 1px);clip: rect(1px, 1px, 1px, 1px);height: 1px;margin: -1px;overflow: hidden;padding: 0;position: absolute;width: 1px;}#sk-container-id-1 div.sk-estimator {font-family: monospace;background-color: #f0f8ff;border: 1px dotted black;border-radius: 0.25em;box-sizing: border-box;margin-bottom: 0.5em;}#sk-container-id-1 div.sk-estimator:hover {background-color: #d4ebff;}#sk-container-id-1 div.sk-parallel-item::after {content: \"\";width: 100%;border-bottom: 1px solid gray;flex-grow: 1;}#sk-container-id-1 div.sk-label:hover label.sk-toggleable__label {background-color: #d4ebff;}#sk-container-id-1 div.sk-serial::before {content: \"\";position: absolute;border-left: 1px solid gray;box-sizing: border-box;top: 0;bottom: 0;left: 50%;z-index: 0;}#sk-container-id-1 div.sk-serial {display: flex;flex-direction: column;align-items: center;background-color: white;padding-right: 0.2em;padding-left: 0.2em;position: relative;}#sk-container-id-1 div.sk-item {position: relative;z-index: 1;}#sk-container-id-1 div.sk-parallel {display: flex;align-items: stretch;justify-content: center;background-color: white;position: relative;}#sk-container-id-1 div.sk-item::before, #sk-container-id-1 div.sk-parallel-item::before {content: \"\";position: absolute;border-left: 1px solid gray;box-sizing: border-box;top: 0;bottom: 0;left: 50%;z-index: -1;}#sk-container-id-1 div.sk-parallel-item {display: flex;flex-direction: column;z-index: 1;position: relative;background-color: white;}#sk-container-id-1 div.sk-parallel-item:first-child::after {align-self: flex-end;width: 50%;}#sk-container-id-1 div.sk-parallel-item:last-child::after {align-self: flex-start;width: 50%;}#sk-container-id-1 div.sk-parallel-item:only-child::after {width: 0;}#sk-container-id-1 div.sk-dashed-wrapped {border: 1px dashed gray;margin: 0 0.4em 0.5em 0.4em;box-sizing: border-box;padding-bottom: 0.4em;background-color: white;}#sk-container-id-1 div.sk-label label {font-family: monospace;font-weight: bold;display: inline-block;line-height: 1.2em;}#sk-container-id-1 div.sk-label-container {text-align: center;}#sk-container-id-1 div.sk-container {/* jupyter's `normalize.less` sets `[hidden] { display: none; }` but bootstrap.min.css set `[hidden] { display: none !important; }` so we also need the `!important` here to be able to override the default hidden behavior on the sphinx rendered scikit-learn.org. See: https://github.com/scikit-learn/scikit-learn/issues/21755 */display: inline-block !important;position: relative;}#sk-container-id-1 div.sk-text-repr-fallback {display: none;}</style><div id=\"sk-container-id-1\" class=\"sk-top-container\"><div class=\"sk-text-repr-fallback\"><pre>StandardScaler()</pre><b>In a Jupyter environment, please rerun this cell to show the HTML representation or trust the notebook. <br />On GitHub, the HTML representation is unable to render, please try loading this page with nbviewer.org.</b></div><div class=\"sk-container\" hidden><div class=\"sk-item\"><div class=\"sk-estimator sk-toggleable\"><input class=\"sk-toggleable__control sk-hidden--visually\" id=\"sk-estimator-id-1\" type=\"checkbox\" checked><label for=\"sk-estimator-id-1\" class=\"sk-toggleable__label sk-toggleable__label-arrow\">StandardScaler</label><div class=\"sk-toggleable__content\"><pre>StandardScaler()</pre></div></div></div></div></div>"
      ],
      "text/plain": [
       "StandardScaler()"
      ]
     },
     "execution_count": 11,
     "metadata": {},
     "output_type": "execute_result"
    }
   ],
   "source": [
    "# perform feature scailing using Standerd scaler \n",
    "st= StandardScaler()\n",
    "st.fit_transform(X_train)\n",
    "st.fit(X_test)"
   ]
  },
  {
   "cell_type": "code",
   "execution_count": 14,
   "id": "53d16e98",
   "metadata": {},
   "outputs": [
    {
     "name": "stdout",
     "output_type": "stream",
     "text": [
      "accuracy of Random Forest Algorithm= 72.92369669722675\n"
     ]
    }
   ],
   "source": [
    "\n",
    "# Create Random Forest Classifier\n",
    "random_forest = RandomForestClassifier(n_estimators = 1000)\n",
    "random_forest.fit(X_train, y_train)     \n",
    "y_predRF = random_forest.predict(X_test)\n",
    "accuracy_Random_forest=accuracy_score(y_test, y_predRF)\n",
    "print(\"accuracy of Random Forest Algorithm=\",accuracy_Random_forest*100)"
   ]
  },
  {
   "cell_type": "code",
   "execution_count": 15,
   "id": "8f358e70",
   "metadata": {},
   "outputs": [
    {
     "name": "stdout",
     "output_type": "stream",
     "text": [
      "accuracy of Decision Tree Algorithm= 72.93027247965833\n"
     ]
    }
   ],
   "source": [
    "#Create Decision Tree Classifier \n",
    "decision_tree = DecisionTreeClassifier()\n",
    "decision_tree.fit(X_train, y_train)\n",
    "y_predDT = decision_tree.predict(X_test)\n",
    "accuracy_Decision_Tree = accuracy_score(y_test, y_predDT)\n",
    "print(\"accuracy of Decision Tree Algorithm=\",accuracy_Decision_Tree*100)"
   ]
  },
  {
   "cell_type": "code",
   "execution_count": 16,
   "id": "3ff9eede",
   "metadata": {},
   "outputs": [
    {
     "name": "stdout",
     "output_type": "stream",
     "text": [
      "accuracy of K-Nearest Nighbour= 72.95622951557249\n"
     ]
    }
   ],
   "source": [
    "# K-Nearest Neighbour Algorithm (KNN)\n",
    "KNN= KNeighborsClassifier(n_neighbors=10)\n",
    "KNN.fit(X_train, y_train)\n",
    "y_predKNN= KNN.predict(X_test)\n",
    "accuarcy_KNN=accuracy_score(y_test,y_predKNN)\n",
    "print(\"accuracy of K-Nearest Nighbour=\",accuarcy_KNN*100)"
   ]
  },
  {
   "cell_type": "code",
   "execution_count": 17,
   "id": "897ce13e",
   "metadata": {},
   "outputs": [
    {
     "name": "stdout",
     "output_type": "stream",
     "text": [
      "accuracy of Suppor Gaussian Naive Bayes= 26.035253115709544\n"
     ]
    }
   ],
   "source": [
    "#Gaussian Naive Bayes Algorithm \n",
    "gnb = GaussianNB()\n",
    "gnb.fit(X_train, y_train)\n",
    "y_predgnb = gnb.predict(X_test)\n",
    "accuarcy_gnb=accuracy_score(y_test,y_predgnb)\n",
    "print(\"accuracy of Suppor Gaussian Naive Bayes=\",accuarcy_gnb*100)\n"
   ]
  },
  {
   "cell_type": "code",
   "execution_count": 24,
   "id": "8ea579c8",
   "metadata": {},
   "outputs": [],
   "source": [
    "#classification Report\n",
    "from sklearn.metrics import classification_report"
   ]
  },
  {
   "cell_type": "code",
   "execution_count": 30,
   "id": "85ed9b06",
   "metadata": {
    "scrolled": false
   },
   "outputs": [
    {
     "name": "stderr",
     "output_type": "stream",
     "text": [
      "C:\\Users\\9902013491.UPS\\Anaconda3\\lib\\site-packages\\sklearn\\metrics\\_classification.py:1334: UndefinedMetricWarning: Precision and F-score are ill-defined and being set to 0.0 in labels with no predicted samples. Use `zero_division` parameter to control this behavior.\n",
      "  _warn_prf(average, modifier, msg_start, len(result))\n"
     ]
    },
    {
     "name": "stdout",
     "output_type": "stream",
     "text": [
      "              precision    recall  f1-score   support\n",
      "\n",
      "     class 0       0.99      1.00      0.99       766\n",
      "     class 1       0.96      0.55      0.70     39780\n",
      "     class 2       0.61      0.14      0.23      3049\n",
      "      class3       0.56      0.83      0.67         6\n",
      "      class4       0.78      0.38      0.51        74\n",
      "      class5       1.00      1.00      1.00         3\n",
      "      class6       0.00      0.00      0.00         1\n",
      "      class7       1.00      0.20      0.33         5\n",
      "      class8       1.00      0.82      0.90     27741\n",
      "      class9       1.00      0.60      0.75         5\n",
      "     class10       0.68      0.00      0.00     52533\n",
      "     class11       0.68      1.00      0.81    164976\n",
      "\n",
      "    accuracy                           0.73    288939\n",
      "   macro avg       0.77      0.54      0.57    288939\n",
      "weighted avg       0.75      0.73      0.65    288939\n",
      "\n"
     ]
    },
    {
     "name": "stderr",
     "output_type": "stream",
     "text": [
      "C:\\Users\\9902013491.UPS\\Anaconda3\\lib\\site-packages\\sklearn\\metrics\\_classification.py:1334: UndefinedMetricWarning: Precision and F-score are ill-defined and being set to 0.0 in labels with no predicted samples. Use `zero_division` parameter to control this behavior.\n",
      "  _warn_prf(average, modifier, msg_start, len(result))\n",
      "C:\\Users\\9902013491.UPS\\Anaconda3\\lib\\site-packages\\sklearn\\metrics\\_classification.py:1334: UndefinedMetricWarning: Precision and F-score are ill-defined and being set to 0.0 in labels with no predicted samples. Use `zero_division` parameter to control this behavior.\n",
      "  _warn_prf(average, modifier, msg_start, len(result))\n"
     ]
    }
   ],
   "source": [
    "target_names = ['class 0', 'class 1', 'class 2',\"class3\",\"class4\",\"class5\",\"class6\",\n",
    "                \"class7\",\"class8\",\"class9\",\"class10\",\"class11\"]\n",
    "print(classification_report(y_test, y_predRF, target_names=target_names))"
   ]
  },
  {
   "cell_type": "code",
   "execution_count": 31,
   "id": "7474f1c9",
   "metadata": {},
   "outputs": [
    {
     "name": "stderr",
     "output_type": "stream",
     "text": [
      "C:\\Users\\9902013491.UPS\\Anaconda3\\lib\\site-packages\\sklearn\\metrics\\_classification.py:1334: UndefinedMetricWarning: Precision and F-score are ill-defined and being set to 0.0 in labels with no predicted samples. Use `zero_division` parameter to control this behavior.\n",
      "  _warn_prf(average, modifier, msg_start, len(result))\n",
      "C:\\Users\\9902013491.UPS\\Anaconda3\\lib\\site-packages\\sklearn\\metrics\\_classification.py:1334: UndefinedMetricWarning: Precision and F-score are ill-defined and being set to 0.0 in labels with no predicted samples. Use `zero_division` parameter to control this behavior.\n",
      "  _warn_prf(average, modifier, msg_start, len(result))\n"
     ]
    },
    {
     "name": "stdout",
     "output_type": "stream",
     "text": [
      "              precision    recall  f1-score   support\n",
      "\n",
      "     class 0       0.99      1.00      1.00       766\n",
      "     class 1       0.96      0.55      0.70     39780\n",
      "     class 2       0.64      0.14      0.23      3049\n",
      "      class3       0.56      0.83      0.67         6\n",
      "      class4       0.78      0.38      0.51        74\n",
      "      class5       1.00      1.00      1.00         3\n",
      "      class6       0.00      0.00      0.00         1\n",
      "      class7       0.00      0.00      0.00         5\n",
      "      class8       1.00      0.82      0.90     27741\n",
      "      class9       1.00      0.60      0.75         5\n",
      "     class10       0.65      0.00      0.00     52533\n",
      "     class11       0.68      1.00      0.81    164976\n",
      "\n",
      "    accuracy                           0.73    288939\n",
      "   macro avg       0.69      0.53      0.55    288939\n",
      "weighted avg       0.75      0.73      0.65    288939\n",
      "\n"
     ]
    },
    {
     "name": "stderr",
     "output_type": "stream",
     "text": [
      "C:\\Users\\9902013491.UPS\\Anaconda3\\lib\\site-packages\\sklearn\\metrics\\_classification.py:1334: UndefinedMetricWarning: Precision and F-score are ill-defined and being set to 0.0 in labels with no predicted samples. Use `zero_division` parameter to control this behavior.\n",
      "  _warn_prf(average, modifier, msg_start, len(result))\n"
     ]
    }
   ],
   "source": [
    "target_names = ['class 0', 'class 1', 'class 2',\"class3\",\"class4\",\"class5\",\"class6\",\n",
    "                \"class7\",\"class8\",\"class9\",\"class10\",\"class11\"]\n",
    "print(classification_report(y_test, y_predDT, target_names=target_names))"
   ]
  },
  {
   "cell_type": "code",
   "execution_count": 32,
   "id": "a8b04f42",
   "metadata": {},
   "outputs": [
    {
     "name": "stderr",
     "output_type": "stream",
     "text": [
      "C:\\Users\\9902013491.UPS\\Anaconda3\\lib\\site-packages\\sklearn\\metrics\\_classification.py:1334: UndefinedMetricWarning: Precision and F-score are ill-defined and being set to 0.0 in labels with no predicted samples. Use `zero_division` parameter to control this behavior.\n",
      "  _warn_prf(average, modifier, msg_start, len(result))\n",
      "C:\\Users\\9902013491.UPS\\Anaconda3\\lib\\site-packages\\sklearn\\metrics\\_classification.py:1334: UndefinedMetricWarning: Precision and F-score are ill-defined and being set to 0.0 in labels with no predicted samples. Use `zero_division` parameter to control this behavior.\n",
      "  _warn_prf(average, modifier, msg_start, len(result))\n"
     ]
    },
    {
     "name": "stdout",
     "output_type": "stream",
     "text": [
      "              precision    recall  f1-score   support\n",
      "\n",
      "     class 0       0.97      0.98      0.98       766\n",
      "     class 1       0.95      0.55      0.70     39780\n",
      "     class 2       0.85      0.11      0.19      3049\n",
      "      class3       0.42      0.83      0.56         6\n",
      "      class4       0.81      0.39      0.53        74\n",
      "      class5       0.50      0.33      0.40         3\n",
      "      class6       0.00      0.00      0.00         1\n",
      "      class7       0.00      0.00      0.00         5\n",
      "      class8       1.00      0.82      0.90     27741\n",
      "      class9       1.00      0.60      0.75         5\n",
      "     class10       0.67      0.00      0.00     52533\n",
      "     class11       0.68      1.00      0.81    164976\n",
      "\n",
      "    accuracy                           0.73    288939\n",
      "   macro avg       0.65      0.47      0.48    288939\n",
      "weighted avg       0.75      0.73      0.65    288939\n",
      "\n"
     ]
    },
    {
     "name": "stderr",
     "output_type": "stream",
     "text": [
      "C:\\Users\\9902013491.UPS\\Anaconda3\\lib\\site-packages\\sklearn\\metrics\\_classification.py:1334: UndefinedMetricWarning: Precision and F-score are ill-defined and being set to 0.0 in labels with no predicted samples. Use `zero_division` parameter to control this behavior.\n",
      "  _warn_prf(average, modifier, msg_start, len(result))\n"
     ]
    }
   ],
   "source": [
    "target_names = ['class 0', 'class 1', 'class 2',\"class3\",\"class4\",\"class5\",\"class6\",\n",
    "                \"class7\",\"class8\",\"class9\",\"class10\",\"class11\"]\n",
    "print(classification_report(y_test, y_predKNN, target_names=target_names))"
   ]
  },
  {
   "cell_type": "code",
   "execution_count": 41,
   "id": "50d68fdb",
   "metadata": {},
   "outputs": [
    {
     "name": "stderr",
     "output_type": "stream",
     "text": [
      "C:\\Users\\9902013491.UPS\\Anaconda3\\lib\\site-packages\\sklearn\\metrics\\_classification.py:1334: UndefinedMetricWarning: Precision and F-score are ill-defined and being set to 0.0 in labels with no predicted samples. Use `zero_division` parameter to control this behavior.\n",
      "  _warn_prf(average, modifier, msg_start, len(result))\n",
      "C:\\Users\\9902013491.UPS\\Anaconda3\\lib\\site-packages\\sklearn\\metrics\\_classification.py:1334: UndefinedMetricWarning: Recall and F-score are ill-defined and being set to 0.0 in labels with no true samples. Use `zero_division` parameter to control this behavior.\n",
      "  _warn_prf(average, modifier, msg_start, len(result))\n"
     ]
    },
    {
     "name": "stdout",
     "output_type": "stream",
     "text": [
      "              precision    recall  f1-score   support\n",
      "\n",
      "           0       0.00      0.00      0.00         0\n",
      "           1       0.79      0.96      0.87       766\n",
      "           2       0.50      0.00      0.00     39780\n",
      "           3       0.49      0.11      0.18      3049\n",
      "           4       0.42      0.83      0.56         6\n",
      "           5       0.00      0.00      0.00        74\n",
      "           6       0.60      1.00      0.75         3\n",
      "           7       0.00      0.00      0.00         1\n",
      "           8       0.50      0.20      0.29         5\n",
      "           9       0.44      0.00      0.00     27741\n",
      "          10       1.00      0.40      0.57         5\n",
      "          11       0.23      0.90      0.37     52533\n",
      "          12       0.98      0.16      0.28    164976\n",
      "\n",
      "    accuracy                           0.26    288939\n",
      "   macro avg       0.46      0.35      0.30    288939\n",
      "weighted avg       0.72      0.26      0.23    288939\n",
      "\n"
     ]
    },
    {
     "name": "stderr",
     "output_type": "stream",
     "text": [
      "C:\\Users\\9902013491.UPS\\Anaconda3\\lib\\site-packages\\sklearn\\metrics\\_classification.py:1334: UndefinedMetricWarning: Precision and F-score are ill-defined and being set to 0.0 in labels with no predicted samples. Use `zero_division` parameter to control this behavior.\n",
      "  _warn_prf(average, modifier, msg_start, len(result))\n",
      "C:\\Users\\9902013491.UPS\\Anaconda3\\lib\\site-packages\\sklearn\\metrics\\_classification.py:1334: UndefinedMetricWarning: Recall and F-score are ill-defined and being set to 0.0 in labels with no true samples. Use `zero_division` parameter to control this behavior.\n",
      "  _warn_prf(average, modifier, msg_start, len(result))\n",
      "C:\\Users\\9902013491.UPS\\Anaconda3\\lib\\site-packages\\sklearn\\metrics\\_classification.py:1334: UndefinedMetricWarning: Precision and F-score are ill-defined and being set to 0.0 in labels with no predicted samples. Use `zero_division` parameter to control this behavior.\n",
      "  _warn_prf(average, modifier, msg_start, len(result))\n",
      "C:\\Users\\9902013491.UPS\\Anaconda3\\lib\\site-packages\\sklearn\\metrics\\_classification.py:1334: UndefinedMetricWarning: Recall and F-score are ill-defined and being set to 0.0 in labels with no true samples. Use `zero_division` parameter to control this behavior.\n",
      "  _warn_prf(average, modifier, msg_start, len(result))\n"
     ]
    }
   ],
   "source": [
    "\n",
    "print(classification_report(y_test, y_predgnb))"
   ]
  },
  {
   "cell_type": "code",
   "execution_count": null,
   "id": "6f6f2ea6",
   "metadata": {},
   "outputs": [],
   "source": []
  }
 ],
 "metadata": {
  "kernelspec": {
   "display_name": "Python 3 (ipykernel)",
   "language": "python",
   "name": "python3"
  },
  "language_info": {
   "codemirror_mode": {
    "name": "ipython",
    "version": 3
   },
   "file_extension": ".py",
   "mimetype": "text/x-python",
   "name": "python",
   "nbconvert_exporter": "python",
   "pygments_lexer": "ipython3",
   "version": "3.9.13"
  }
 },
 "nbformat": 4,
 "nbformat_minor": 5
}
